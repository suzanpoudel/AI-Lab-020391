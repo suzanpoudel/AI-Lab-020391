{
  "nbformat": 4,
  "nbformat_minor": 0,
  "metadata": {
    "colab": {
      "provenance": [],
      "authorship_tag": "ABX9TyNT4ybsB14rCkRV1xu8F0Jq",
      "include_colab_link": true
    },
    "kernelspec": {
      "name": "python3",
      "display_name": "Python 3"
    },
    "language_info": {
      "name": "python"
    }
  },
  "cells": [
    {
      "cell_type": "markdown",
      "metadata": {
        "id": "view-in-github",
        "colab_type": "text"
      },
      "source": [
        "<a href=\"https://colab.research.google.com/github/suzanpoudel/AI-Lab-020391/blob/main/Linear_regression_scratch.ipynb\" target=\"_parent\"><img src=\"https://colab.research.google.com/assets/colab-badge.svg\" alt=\"Open In Colab\"/></a>"
      ]
    },
    {
      "cell_type": "code",
      "execution_count": 1,
      "metadata": {
        "colab": {
          "base_uri": "https://localhost:8080/"
        },
        "id": "ZUHzER2Zarlh",
        "outputId": "b09da1f4-7821-4544-8a24-426c0f516ab6"
      },
      "outputs": [
        {
          "output_type": "stream",
          "name": "stdout",
          "text": [
            "Slope (b) = 38.72, Intercept (a) = 43.43\n",
            "Predicted y for x = 15: 624.2441860465117\n"
          ]
        }
      ],
      "source": [
        "import numpy as np\n",
        "class LinearRegression:\n",
        "    def __init__(self):\n",
        "        #Initialize slope and intercept to `None`.\n",
        "        self.b = None  # slope\n",
        "        self.a = None  # intercept\n",
        "\n",
        "    def get_slope(self):\n",
        "        #Return value of slope.\n",
        "        return self.b\n",
        "\n",
        "    def get_intercept(self):\n",
        "        #Return value of intercept.\n",
        "        return self.a\n",
        "\n",
        "    def fit(self, x_data, y_data):\n",
        "        # Fit the given data to calculate slope and intercept. `x_data` and `y_data` should both be 1-D numpy arrays.\n",
        "        x_mean = np.mean(x_data)\n",
        "        y_mean = np.mean(y_data)\n",
        "\n",
        "        x_dev = x_data - x_mean\n",
        "        y_dev = y_data - y_mean\n",
        "\n",
        "        self.b = np.sum(x_dev * y_dev) / np.sum(x_dev * x_dev)\n",
        "        self.a = y_mean - (self.b * x_mean)\n",
        "\n",
        "    def predict(self, x):\n",
        "        #Return linear regression prediction for provided value.\n",
        "        return (self.b * x) + self.a\n",
        "\n",
        "x_data = np.array([6, 12, 14, 6, 9, 13, 15, 9])\n",
        "y_data = np.array([300, 400, 560, 250, 290, 650, 630, 520])\n",
        "lr_model = LinearRegression()\n",
        "lr_model.fit(x_data, y_data)\n",
        "\n",
        "print(f\"Slope (b) = {lr_model.get_slope():.2f}, Intercept (a) = {lr_model.get_intercept():.2f}\")\n",
        "print(\"Predicted y for x = 15:\", lr_model.predict(15))"
      ]
    }
  ]
}