{
  "nbformat": 4,
  "nbformat_minor": 0,
  "metadata": {
    "colab": {
      "provenance": [],
      "authorship_tag": "ABX9TyPjKvyThu5l4dLH7t7ekaaQ",
      "include_colab_link": true
    },
    "kernelspec": {
      "name": "python3",
      "display_name": "Python 3"
    },
    "language_info": {
      "name": "python"
    }
  },
  "cells": [
    {
      "cell_type": "markdown",
      "metadata": {
        "id": "view-in-github",
        "colab_type": "text"
      },
      "source": [
        "<a href=\"https://colab.research.google.com/github/suzanpoudel/AI-Lab-020391/blob/main/perceptron.ipynb\" target=\"_parent\"><img src=\"https://colab.research.google.com/assets/colab-badge.svg\" alt=\"Open In Colab\"/></a>"
      ]
    },
    {
      "cell_type": "code",
      "execution_count": 2,
      "metadata": {
        "colab": {
          "base_uri": "https://localhost:8080/"
        },
        "id": "e_e1ctxXhsYv",
        "outputId": "37915f7d-13e7-4a44-9ad2-5ff292302cce"
      },
      "outputs": [
        {
          "output_type": "stream",
          "name": "stdout",
          "text": [
            "Final weights: 0.06106247645633878, 0.49987665603239073\n",
            "Prediction for 0 & 0: 0\n",
            "Prediction for 0 & 1: 0\n",
            "Prediction for 1 & 0: 0\n",
            "Prediction for 1 & 1: 1\n"
          ]
        }
      ],
      "source": [
        "# implementation of a perceptron from scratch demonstrated using AND gate example.\n",
        "\n",
        "import numpy as np\n",
        "class Perceptron:\n",
        "    def __init__(self, lr=0.1, th=0.5):\n",
        "        \"\"\"\n",
        "        Initialize perceptron providing feature matrix (X) and targets (y).\n",
        "        X and y should be numpy arrays. Learning rate (lr) and threshold (th) values are optional.\n",
        "        \"\"\"\n",
        "        self.lr = lr\n",
        "        self.th = th\n",
        "\n",
        "    def step(self, val):\n",
        "        \"\"\"\n",
        "        Step function as activation function.\n",
        "        \"\"\"\n",
        "        return 1 if val >= self.th else 0\n",
        "\n",
        "    def predict(self, X_in):\n",
        "        \"\"\"\n",
        "        Make predictions with the perceptron. X_in should be a feature set as numpy array.\n",
        "        \"\"\"\n",
        "        weighted_sum = np.sum(X_in * self.weights)\n",
        "        y_pred = self.step(weighted_sum)\n",
        "        return y_pred\n",
        "\n",
        "    def fit(self, X, y):\n",
        "        \"\"\"\n",
        "        Fit the perceptron using the given data, learning rate and threshold before training.\n",
        "        \"\"\"\n",
        "        self.X = X\n",
        "        self.y = y\n",
        "\n",
        "        # Initialize weights randomly for each feature in feature set\n",
        "        self.weights = np.array([np.random.rand() for _ in range(self.X.shape[1])])\n",
        "\n",
        "        is_iterating = True\n",
        "        while is_iterating:\n",
        "            # Assume correct weights requiring no adjustment\n",
        "            is_iterating = False\n",
        "            for X_in, y_actual in zip(self.X, self.y):\n",
        "                y_pred = self.predict(X_in)\n",
        "                error = y_actual - y_pred\n",
        "                if error == 0:\n",
        "                    # Continue to next set of features (next X_in) for no error\n",
        "                    continue\n",
        "                # Otherwise in case of error adjust weights and signal requirement\n",
        "                # for additional iteration\n",
        "                for i in range(self.weights.size):\n",
        "                    dw = self.lr * X_in[i] * error\n",
        "                    self.weights[i] += dw\n",
        "                is_iterating = True\n",
        "\n",
        "        # After iterations complete, the final weights are obtained\n",
        "        return self.weights\n",
        "X = np.array([[0, 0], [0, 1], [1, 0], [1, 1]]) # feature matrix\n",
        "y = np.array([0, 0, 0, 1]) # targets\n",
        "and_gate_p = Perceptron()\n",
        "f_weights = and_gate_p.fit(X, y)\n",
        "print(f\"Final weights: {', '.join([str(w) for w in f_weights])}\")\n",
        "for X_in in X:\n",
        "    print(f\"Prediction for {' & '.join([str(f) for f in X_in])}: {and_gate_p.predict(X_in)}\")"
      ]
    }
  ]
}