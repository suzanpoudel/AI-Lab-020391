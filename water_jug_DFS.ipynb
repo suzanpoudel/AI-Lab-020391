{
  "nbformat": 4,
  "nbformat_minor": 0,
  "metadata": {
    "colab": {
      "provenance": [],
      "authorship_tag": "ABX9TyPfs3w8PgO0ZvrdjiDbwQhR",
      "include_colab_link": true
    },
    "kernelspec": {
      "name": "python3",
      "display_name": "Python 3"
    },
    "language_info": {
      "name": "python"
    }
  },
  "cells": [
    {
      "cell_type": "markdown",
      "metadata": {
        "id": "view-in-github",
        "colab_type": "text"
      },
      "source": [
        "<a href=\"https://colab.research.google.com/github/suzanpoudel/AI-Lab-020391/blob/main/water_jug_DFS.ipynb\" target=\"_parent\"><img src=\"https://colab.research.google.com/assets/colab-badge.svg\" alt=\"Open In Colab\"/></a>"
      ]
    },
    {
      "cell_type": "code",
      "execution_count": 1,
      "metadata": {
        "colab": {
          "base_uri": "https://localhost:8080/"
        },
        "id": "R_e20lZsjZ0E",
        "outputId": "8947171f-861c-4b0b-f896-b47ac4d871bf"
      },
      "outputs": [
        {
          "output_type": "stream",
          "name": "stdout",
          "text": [
            "Solution path: (0, 0) -> (0, 3) -> (3, 0) -> (3, 3) -> (4, 2) -> (0, 2) -> (2, 0)\n",
            "Found the goal state (2, 0)\n"
          ]
        }
      ],
      "source": [
        "\n",
        "# water jug problem using DFS.\n",
        "# Depth First Search (DFS) -> Last-In-First-Out (LIFO) mechanism\n",
        "\n",
        "class WaterJugDFS:\n",
        "    def __init__(self, initial_state=(0, 0), goal_state=(2, 0)):\n",
        "        \"\"\"\n",
        "        Initialize open stack with initial state, goal state and closed set for visited nodes.\n",
        "        \"\"\"\n",
        "        self.open = [\n",
        "            (None, initial_state)\n",
        "        ]  # node pair is ordered pair of (parent, child)\n",
        "        self.goal_state = goal_state\n",
        "        self.closed = set()\n",
        "\n",
        "    def goal_test(self, state):\n",
        "        \"\"\"\n",
        "        Check to see if 4-litre Jug has 2 litre water and 3-litre Jug has 0 litre water.\n",
        "        \"\"\"\n",
        "        x, y = state\n",
        "        goal_x, goal_y = self.goal_state\n",
        "        return x == goal_x and y == goal_y\n",
        "\n",
        "    def successor(self, state):\n",
        "        \"\"\"\n",
        "        Generate successor states based on current state and production rules.\n",
        "        \"\"\"\n",
        "        x, y = state\n",
        "        succ = []\n",
        "\n",
        "        # Fill 4-litre Jug if not full\n",
        "        if x < 4:\n",
        "            succ.append((4, y))\n",
        "        # Fill 3-litre Jug if not full\n",
        "        if y < 3:\n",
        "            succ.append((x, 3))\n",
        "        # Empty 4-litre Jug if contains water\n",
        "        if x > 0:\n",
        "            succ.append((0, y))\n",
        "        # Empty 3-litre Jug if contains water\n",
        "        if y > 0:\n",
        "            succ.append((x, 0))\n",
        "        # If 4-litre Jug has water and 3-litre Jug is not full, make transfer to 3-litre Jug\n",
        "        if x > 0 and y < 3:\n",
        "            tf = min(x, 3 - y)\n",
        "            succ.append((x - tf, y + tf))\n",
        "        # If 3-litre Jug has water and 4-litre Jug is not full, make transfer to 4-litre Jug\n",
        "        if y > 0 and x < 4:\n",
        "            tf = min(4 - x, y)\n",
        "            succ.append((x + tf, y - tf))\n",
        "\n",
        "        return succ\n",
        "\n",
        "    def get_pair_child(self, node_pair_iter):\n",
        "        \"\"\"\n",
        "        Returns list of only children from iterable containing (parent, child) node pairs.\n",
        "        \"\"\"\n",
        "        return [pair[1] for pair in node_pair_iter]\n",
        "\n",
        "    def dfs(self):\n",
        "        \"\"\"\n",
        "        Depth First Search using open as stack.\n",
        "        \"\"\"\n",
        "        while self.open:\n",
        "            # Pop, add to closed set and check if current node is goal\n",
        "            node_pair = self.open.pop()\n",
        "            self.closed.add(node_pair)\n",
        "            _, node = node_pair\n",
        "            if self.goal_test(node):\n",
        "                return node\n",
        "            # If current node is not goal, generate successors and add to open stack\n",
        "            self.open += [\n",
        "                (node, s)\n",
        "                for s in self.successor(node)\n",
        "                if s not in self.get_pair_child(self.open)\n",
        "                and s not in self.get_pair_child(self.closed)\n",
        "            ]\n",
        "        # Return None if goal not found\n",
        "        return None\n",
        "\n",
        "    def generate_path(self):\n",
        "        \"\"\"\n",
        "        Generate the path from initial state to solution/goal state.\n",
        "        \"\"\"\n",
        "        path = []\n",
        "        node = self.goal_state\n",
        "        while node:\n",
        "            path.append(str(node))\n",
        "            for parent, child in self.closed:\n",
        "                if node == child:\n",
        "                    node = parent\n",
        "                    break\n",
        "        path.reverse()\n",
        "        print(\"Solution path:\", end=\" \")\n",
        "        print(\" -> \".join(path))\n",
        "\n",
        "    def run(self):\n",
        "        \"\"\"\n",
        "        Driver method.\n",
        "        \"\"\"\n",
        "        goal_node = self.dfs()\n",
        "        if goal_node:\n",
        "            self.generate_path()\n",
        "            print(f\"Found the goal state {goal_node}\")\n",
        "        else:\n",
        "            print(\"Did not find goal state\")\n",
        "\n",
        "\n",
        "wg = WaterJugDFS()\n",
        "wg.run()\n"
      ]
    }
  ]
}